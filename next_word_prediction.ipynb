{
  "cells": [
    {
      "cell_type": "code",
      "execution_count": 3,
      "metadata": {
        "id": "ELIFsAXQXoxi"
      },
      "outputs": [],
      "source": [
        "import tensorflow as tf\n",
        "from tensorflow.keras.preprocessing.text import Tokenizer\n",
        "from tensorflow.keras.layers import Embedding, LSTM, Dense\n",
        "from tensorflow.keras.models import Sequential\n",
        "from tensorflow.keras.utils import to_categorical\n",
        "from tensorflow.keras.optimizers import Adam\n",
        "import pickle\n",
        "import numpy as np\n",
        "import os"
      ]
    },
    {
      "cell_type": "code",
      "execution_count": 4,
      "metadata": {
        "colab": {
          "base_uri": "https://localhost:8080/",
          "height": 73,
          "resources": {
            "http://localhost:8080/nbextensions/google.colab/files.js": {
              "data": "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",
              "headers": [
                [
                  "content-type",
                  "application/javascript"
                ]
              ],
              "ok": true,
              "status": 200,
              "status_text": ""
            }
          }
        },
        "id": "M82OtXKdXxKP",
        "outputId": "79752fd6-f6d4-4b6c-ae85-eeced7345477"
      },
      "outputs": [
        {
          "data": {
            "text/html": [
              "\n",
              "     <input type=\"file\" id=\"files-ad20a511-9c08-4cfc-b8ed-162422f270b4\" name=\"files[]\" multiple disabled\n",
              "        style=\"border:none\" />\n",
              "     <output id=\"result-ad20a511-9c08-4cfc-b8ed-162422f270b4\">\n",
              "      Upload widget is only available when the cell has been executed in the\n",
              "      current browser session. Please rerun this cell to enable.\n",
              "      </output>\n",
              "      <script src=\"/nbextensions/google.colab/files.js\"></script> "
            ],
            "text/plain": [
              "<IPython.core.display.HTML object>"
            ]
          },
          "metadata": {},
          "output_type": "display_data"
        },
        {
          "name": "stdout",
          "output_type": "stream",
          "text": [
            "Saving Pride and Prejudice.txt to Pride and Prejudice (1).txt\n"
          ]
        }
      ],
      "source": [
        "from google.colab import files\n",
        "uploaded = files.upload()"
      ]
    },
    {
      "cell_type": "code",
      "execution_count": 5,
      "metadata": {
        "id": "eaH-NrGoYE6k"
      },
      "outputs": [],
      "source": [
        "### load and preprocess file"
      ]
    },
    {
      "cell_type": "code",
      "execution_count": 6,
      "metadata": {
        "colab": {
          "base_uri": "https://localhost:8080/",
          "height": 87
        },
        "id": "6TGB2HBaX4xX",
        "outputId": "22aaf5aa-c112-4f98-b244-979e8a3bdf25"
      },
      "outputs": [
        {
          "data": {
            "application/vnd.google.colaboratory.intrinsic+json": {
              "type": "string"
            },
            "text/plain": [
              "'The Project Gutenberg eBook of Pride and Prejudice, by Jane AustenThis eBook is for the use of anyone anywhere in the United States andmost other parts of the world at no cost and with almost no restrictionswhatsoever. You may copy it, give it away or re-use it under the termsof the Project Gutenberg License included with this eBook or online atwww.gutenberg.org. If you are not located in the United States, youwill have to check the laws of the country where you are located beforeusing this eBoo'"
            ]
          },
          "execution_count": 6,
          "metadata": {},
          "output_type": "execute_result"
        }
      ],
      "source": [
        "file = open(\"Pride and Prejudice.txt\", \"r\", encoding = \"utf8\")\n",
        "\n",
        "# Store file in list\n",
        "lines = []\n",
        "for i in file:\n",
        "  lines.append(i)\n",
        "\n",
        "#converting list to string\n",
        "data = \"\"\n",
        "for i in lines:\n",
        "  data = ''.join(lines)\n",
        "\n",
        "#replace unnecessary stuff with space\n",
        "data = data.replace('\\n', '').replace('\\r', '').replace('\\ufeff', '').replace('“','').replace('”','')\n",
        "\n",
        "#remove unnecessary spaces \n",
        "data = data.split()\n",
        "data = ' '.join(data)\n",
        "data[:500]"
      ]
    },
    {
      "cell_type": "code",
      "execution_count": 7,
      "metadata": {
        "colab": {
          "base_uri": "https://localhost:8080/"
        },
        "id": "uBdW5NCcYBpT",
        "outputId": "04c8469e-08af-465d-cee8-55265a91e8ee"
      },
      "outputs": [
        {
          "data": {
            "text/plain": [
              "[1, 223, 186, 912, 3, 328, 4, 1351, 30, 72, 4174, 912, 23, 21, 1]"
            ]
          },
          "execution_count": 7,
          "metadata": {},
          "output_type": "execute_result"
        }
      ],
      "source": [
        "tokenizer = Tokenizer()\n",
        "tokenizer.fit_on_texts([data])\n",
        "\n",
        "# saving the tokenizer for predict function\n",
        "pickle.dump(tokenizer, open('token.pkl', 'wb'))\n",
        "\n",
        "sequence_data = tokenizer.texts_to_sequences([data])[0]\n",
        "sequence_data[:15]"
      ]
    },
    {
      "cell_type": "code",
      "execution_count": 8,
      "metadata": {
        "colab": {
          "base_uri": "https://localhost:8080/"
        },
        "id": "4ZFNvtpQYitL",
        "outputId": "31cd693f-7aca-4441-a3ee-76da9f86c04e"
      },
      "outputs": [
        {
          "data": {
            "text/plain": [
              "125076"
            ]
          },
          "execution_count": 8,
          "metadata": {},
          "output_type": "execute_result"
        }
      ],
      "source": [
        "len(sequence_data)"
      ]
    },
    {
      "cell_type": "code",
      "execution_count": 9,
      "metadata": {
        "colab": {
          "base_uri": "https://localhost:8080/"
        },
        "id": "DO2NzzZ9Yq_c",
        "outputId": "6fbf950e-19b4-4993-e535-f90d0522a51b"
      },
      "outputs": [
        {
          "name": "stdout",
          "output_type": "stream",
          "text": [
            "7200\n"
          ]
        }
      ],
      "source": [
        "#vocab_size= unique words\n",
        "vocab_size = len(tokenizer.word_index) + 1    # not 0= bcz reserved for padding\n",
        "print(vocab_size)"
      ]
    },
    {
      "cell_type": "code",
      "execution_count": 10,
      "metadata": {
        "colab": {
          "base_uri": "https://localhost:8080/"
        },
        "id": "eaYj-QFRYvO2",
        "outputId": "3ce24468-ea98-4446-f20c-2b462fb562a9"
      },
      "outputs": [
        {
          "name": "stdout",
          "output_type": "stream",
          "text": [
            "The Length of sequences are:  125073\n"
          ]
        },
        {
          "data": {
            "text/plain": [
              "array([[   1,  223,  186,  912],\n",
              "       [ 223,  186,  912,    3],\n",
              "       [ 186,  912,    3,  328],\n",
              "       [ 912,    3,  328,    4],\n",
              "       [   3,  328,    4, 1351],\n",
              "       [ 328,    4, 1351,   30],\n",
              "       [   4, 1351,   30,   72],\n",
              "       [1351,   30,   72, 4174],\n",
              "       [  30,   72, 4174,  912],\n",
              "       [  72, 4174,  912,   23]])"
            ]
          },
          "execution_count": 10,
          "metadata": {},
          "output_type": "execute_result"
        }
      ],
      "source": [
        "sequences = []\n",
        "\n",
        "for i in range(3, len(sequence_data)):\n",
        "    words = sequence_data[i-3:i+1]        #3 words to predict next word\n",
        "    sequences.append(words)\n",
        "    \n",
        "print(\"The Length of sequences are: \", len(sequences))\n",
        "sequences = np.array(sequences)\n",
        "sequences[:10]"
      ]
    },
    {
      "cell_type": "code",
      "execution_count": 11,
      "metadata": {
        "id": "6lXu6OxNZOkJ"
      },
      "outputs": [],
      "source": [
        "#output has = 3 columns from input and 1 column is for output "
      ]
    },
    {
      "cell_type": "code",
      "execution_count": 12,
      "metadata": {
        "id": "NUPn0oQ-ZfyZ"
      },
      "outputs": [],
      "source": [
        "X = []\n",
        "y = []\n",
        "\n",
        "for i in sequences:\n",
        "    X.append(i[0:3])\n",
        "    y.append(i[3])\n",
        "    \n",
        "X = np.array(X)\n",
        "y = np.array(y)"
      ]
    },
    {
      "cell_type": "code",
      "execution_count": 13,
      "metadata": {
        "colab": {
          "base_uri": "https://localhost:8080/"
        },
        "id": "GIQ73cguZld3",
        "outputId": "96586a5e-997f-4b45-ecd6-edeba74b6091"
      },
      "outputs": [
        {
          "name": "stdout",
          "output_type": "stream",
          "text": [
            "Data:  [[   1  223  186]\n",
            " [ 223  186  912]\n",
            " [ 186  912    3]\n",
            " [ 912    3  328]\n",
            " [   3  328    4]\n",
            " [ 328    4 1351]\n",
            " [   4 1351   30]\n",
            " [1351   30   72]\n",
            " [  30   72 4174]\n",
            " [  72 4174  912]]\n",
            "Response:  [ 912    3  328    4 1351   30   72 4174  912   23]\n"
          ]
        }
      ],
      "source": [
        "print(\"Data: \", X[:10])\n",
        "print(\"Response: \", y[:10])"
      ]
    },
    {
      "cell_type": "code",
      "execution_count": 14,
      "metadata": {
        "colab": {
          "base_uri": "https://localhost:8080/"
        },
        "id": "EyIgEOV1aNFZ",
        "outputId": "d7ea25dc-1e47-45b5-c36a-12f59865a93b"
      },
      "outputs": [
        {
          "data": {
            "text/plain": [
              "array([[0., 0., 0., ..., 0., 0., 0.],\n",
              "       [0., 0., 0., ..., 0., 0., 0.],\n",
              "       [0., 0., 0., ..., 0., 0., 0.],\n",
              "       [0., 0., 0., ..., 0., 0., 0.],\n",
              "       [0., 0., 0., ..., 0., 0., 0.]], dtype=float32)"
            ]
          },
          "execution_count": 14,
          "metadata": {},
          "output_type": "execute_result"
        }
      ],
      "source": [
        "y = to_categorical(y, num_classes=vocab_size)   #binary class metrics\n",
        "y[:5]"
      ]
    },
    {
      "cell_type": "markdown",
      "metadata": {
        "id": "XKSMAMH0atEX"
      },
      "source": [
        "**CREATING THE** **MODEL**"
      ]
    },
    {
      "cell_type": "code",
      "execution_count": 16,
      "metadata": {
        "id": "u-fEEvjkcvGI"
      },
      "outputs": [],
      "source": [
        "model = Sequential()\n",
        "model.add(Embedding(vocab_size, 10, input_length=3))\n",
        "model.add(LSTM(1000, return_sequences=True))\n",
        "model.add(LSTM(1000))\n",
        "model.add(Dense(1000, activation=\"relu\"))\n",
        "model.add(Dense(vocab_size, activation=\"softmax\"))  #softmax=no: to probabilities"
      ]
    },
    {
      "cell_type": "code",
      "execution_count": 17,
      "metadata": {
        "colab": {
          "base_uri": "https://localhost:8080/"
        },
        "id": "i7kBnqEdcvjo",
        "outputId": "2163b75b-3b49-46e9-8267-d5daffc77d84"
      },
      "outputs": [
        {
          "name": "stdout",
          "output_type": "stream",
          "text": [
            "Model: \"sequential_1\"\n",
            "_________________________________________________________________\n",
            " Layer (type)                Output Shape              Param #   \n",
            "=================================================================\n",
            " embedding_1 (Embedding)     (None, 3, 10)             72000     \n",
            "                                                                 \n",
            " lstm_2 (LSTM)               (None, 3, 1000)           4044000   \n",
            "                                                                 \n",
            " lstm_3 (LSTM)               (None, 1000)              8004000   \n",
            "                                                                 \n",
            " dense_2 (Dense)             (None, 1000)              1001000   \n",
            "                                                                 \n",
            " dense_3 (Dense)             (None, 7200)              7207200   \n",
            "                                                                 \n",
            "=================================================================\n",
            "Total params: 20,328,200\n",
            "Trainable params: 20,328,200\n",
            "Non-trainable params: 0\n",
            "_________________________________________________________________\n"
          ]
        }
      ],
      "source": [
        "model.summary()"
      ]
    },
    {
      "cell_type": "markdown",
      "metadata": {
        "id": "SLMBiO_Nc_BC"
      },
      "source": [
        "**Plot the model**"
      ]
    },
    {
      "cell_type": "code",
      "execution_count": 19,
      "metadata": {
        "colab": {
          "base_uri": "https://localhost:8080/",
          "height": 564
        },
        "id": "IpzwF5ebdCoJ",
        "outputId": "a7b8283e-7d28-4e39-a32e-30e8ca74c828"
      },
      "outputs": [
        {
          "data": {
            "image/png": "[encoded data removed]",
            "text/plain": [
              "<IPython.core.display.Image object>"
            ]
          },
          "execution_count": 19,
          "metadata": {},
          "output_type": "execute_result"
        }
      ],
      "source": [
        "from tensorflow import keras\n",
        "from keras.utils.vis_utils import plot_model\n",
        "\n",
        "keras.utils.plot_model(model, to_file='plot.png', show_layer_names=True)"
      ]
    },
    {
      "cell_type": "markdown",
      "metadata": {
        "id": "AtP5xJZ7dHGv"
      },
      "source": [
        "**Build model**"
      ]
    },
    {
      "cell_type": "code",
      "execution_count": 20,
      "metadata": {
        "colab": {
          "base_uri": "https://localhost:8080/"
        },
        "id": "G8jcW-pkdJn_",
        "outputId": "82af611d-4fb9-4105-e556-ef09dec365b2"
      },
      "outputs": [
        {
          "name": "stdout",
          "output_type": "stream",
          "text": [
            "Epoch 1/70\n",
            "1955/1955 [==============================] - ETA: 0s - loss: 6.2218\n",
            "Epoch 00001: loss improved from inf to 6.22180, saving model to next_words.h5\n",
            "1955/1955 [==============================] - 39s 15ms/step - loss: 6.2218\n",
            "Epoch 2/70\n",
            "1953/1955 [============================>.] - ETA: 0s - loss: 5.5947\n",
            "Epoch 00002: loss improved from 6.22180 to 5.59464, saving model to next_words.h5\n",
            "1955/1955 [==============================] - 30s 15ms/step - loss: 5.5946\n",
            "Epoch 3/70\n",
            "1955/1955 [==============================] - ETA: 0s - loss: 5.2881\n",
            "Epoch 00003: loss improved from 5.59464 to 5.28806, saving model to next_words.h5\n",
            "1955/1955 [==============================] - 31s 16ms/step - loss: 5.2881\n",
            "Epoch 4/70\n",
            "1953/1955 [============================>.] - ETA: 0s - loss: 5.0676\n",
            "Epoch 00004: loss improved from 5.28806 to 5.06739, saving model to next_words.h5\n",
            "1955/1955 [==============================] - 30s 15ms/step - loss: 5.0674\n",
            "Epoch 5/70\n",
            "1952/1955 [============================>.] - ETA: 0s - loss: 4.8714\n",
            "Epoch 00005: loss improved from 5.06739 to 4.87172, saving model to next_words.h5\n",
            "1955/1955 [==============================] - 30s 15ms/step - loss: 4.8717\n",
            "Epoch 6/70\n",
            "1953/1955 [============================>.] - ETA: 0s - loss: 4.6772\n",
            "Epoch 00006: loss improved from 4.87172 to 4.67712, saving model to next_words.h5\n",
            "1955/1955 [==============================] - 30s 15ms/step - loss: 4.6771\n",
            "Epoch 7/70\n",
            "1952/1955 [============================>.] - ETA: 0s - loss: 4.4772\n",
            "Epoch 00007: loss improved from 4.67712 to 4.47720, saving model to next_words.h5\n",
            "1955/1955 [==============================] - 30s 15ms/step - loss: 4.4772\n",
            "Epoch 8/70\n",
            "1955/1955 [==============================] - ETA: 0s - loss: 4.2758\n",
            "Epoch 00008: loss improved from 4.47720 to 4.27577, saving model to next_words.h5\n",
            "1955/1955 [==============================] - 32s 16ms/step - loss: 4.2758\n",
            "Epoch 9/70\n",
            "1952/1955 [============================>.] - ETA: 0s - loss: 4.0665\n",
            "Epoch 00009: loss improved from 4.27577 to 4.06673, saving model to next_words.h5\n",
            "1955/1955 [==============================] - 30s 16ms/step - loss: 4.0667\n",
            "Epoch 10/70\n",
            "1952/1955 [============================>.] - ETA: 0s - loss: 3.8506\n",
            "Epoch 00010: loss improved from 4.06673 to 3.85108, saving model to next_words.h5\n",
            "1955/1955 [==============================] - 30s 15ms/step - loss: 3.8511\n",
            "Epoch 11/70\n",
            "1953/1955 [============================>.] - ETA: 0s - loss: 3.6333\n",
            "Epoch 00011: loss improved from 3.85108 to 3.63332, saving model to next_words.h5\n",
            "1955/1955 [==============================] - 30s 15ms/step - loss: 3.6333\n",
            "Epoch 12/70\n",
            "1952/1955 [============================>.] - ETA: 0s - loss: 3.4110\n",
            "Epoch 00012: loss improved from 3.63332 to 3.41143, saving model to next_words.h5\n",
            "1955/1955 [==============================] - 30s 15ms/step - loss: 3.4114\n",
            "Epoch 13/70\n",
            "1952/1955 [============================>.] - ETA: 0s - loss: 3.1875\n",
            "Epoch 00013: loss improved from 3.41143 to 3.18778, saving model to next_words.h5\n",
            "1955/1955 [==============================] - 31s 16ms/step - loss: 3.1878\n",
            "Epoch 14/70\n",
            "1954/1955 [============================>.] - ETA: 0s - loss: 2.9555\n",
            "Epoch 00014: loss improved from 3.18778 to 2.95570, saving model to next_words.h5\n",
            "1955/1955 [==============================] - 30s 15ms/step - loss: 2.9557\n",
            "Epoch 15/70\n",
            "1955/1955 [==============================] - ETA: 0s - loss: 2.7199\n",
            "Epoch 00015: loss improved from 2.95570 to 2.71988, saving model to next_words.h5\n",
            "1955/1955 [==============================] - 30s 15ms/step - loss: 2.7199\n",
            "Epoch 16/70\n",
            "1952/1955 [============================>.] - ETA: 0s - loss: 2.4780\n",
            "Epoch 00016: loss improved from 2.71988 to 2.47811, saving model to next_words.h5\n",
            "1955/1955 [==============================] - 30s 15ms/step - loss: 2.4781\n",
            "Epoch 17/70\n",
            "1954/1955 [============================>.] - ETA: 0s - loss: 2.2429\n",
            "Epoch 00017: loss improved from 2.47811 to 2.24296, saving model to next_words.h5\n",
            "1955/1955 [==============================] - 30s 15ms/step - loss: 2.2430\n",
            "Epoch 18/70\n",
            "1954/1955 [============================>.] - ETA: 0s - loss: 2.0129\n",
            "Epoch 00018: loss improved from 2.24296 to 2.01298, saving model to next_words.h5\n",
            "1955/1955 [==============================] - 30s 15ms/step - loss: 2.0130\n",
            "Epoch 19/70\n",
            "1952/1955 [============================>.] - ETA: 0s - loss: 1.7993\n",
            "Epoch 00019: loss improved from 2.01298 to 1.79955, saving model to next_words.h5\n",
            "1955/1955 [==============================] - 30s 15ms/step - loss: 1.7996\n",
            "Epoch 20/70\n",
            "1955/1955 [==============================] - ETA: 0s - loss: 1.5994\n",
            "Epoch 00020: loss improved from 1.79955 to 1.59942, saving model to next_words.h5\n",
            "1955/1955 [==============================] - 30s 15ms/step - loss: 1.5994\n",
            "Epoch 21/70\n",
            "1953/1955 [============================>.] - ETA: 0s - loss: 1.4283\n",
            "Epoch 00021: loss improved from 1.59942 to 1.42826, saving model to next_words.h5\n",
            "1955/1955 [==============================] - 30s 15ms/step - loss: 1.4283\n",
            "Epoch 22/70\n",
            "1953/1955 [============================>.] - ETA: 0s - loss: 1.2843\n",
            "Epoch 00022: loss improved from 1.42826 to 1.28448, saving model to next_words.h5\n",
            "1955/1955 [==============================] - 30s 15ms/step - loss: 1.2845\n",
            "Epoch 23/70\n",
            "1954/1955 [============================>.] - ETA: 0s - loss: 1.1595\n",
            "Epoch 00023: loss improved from 1.28448 to 1.15952, saving model to next_words.h5\n",
            "1955/1955 [==============================] - 30s 15ms/step - loss: 1.1595\n",
            "Epoch 24/70\n",
            "1952/1955 [============================>.] - ETA: 0s - loss: 1.0600\n",
            "Epoch 00024: loss improved from 1.15952 to 1.06027, saving model to next_words.h5\n",
            "1955/1955 [==============================] - 30s 15ms/step - loss: 1.0603\n",
            "Epoch 25/70\n",
            "1955/1955 [==============================] - ETA: 0s - loss: 0.9806\n",
            "Epoch 00025: loss improved from 1.06027 to 0.98060, saving model to next_words.h5\n",
            "1955/1955 [==============================] - 30s 15ms/step - loss: 0.9806\n",
            "Epoch 26/70\n",
            "1954/1955 [============================>.] - ETA: 0s - loss: 0.9150\n",
            "Epoch 00026: loss improved from 0.98060 to 0.91496, saving model to next_words.h5\n",
            "1955/1955 [==============================] - 30s 15ms/step - loss: 0.9150\n",
            "Epoch 27/70\n",
            "1955/1955 [==============================] - ETA: 0s - loss: 0.8547\n",
            "Epoch 00027: loss improved from 0.91496 to 0.85472, saving model to next_words.h5\n",
            "1955/1955 [==============================] - 30s 15ms/step - loss: 0.8547\n",
            "Epoch 28/70\n",
            "1953/1955 [============================>.] - ETA: 0s - loss: 0.8139\n",
            "Epoch 00028: loss improved from 0.85472 to 0.81397, saving model to next_words.h5\n",
            "1955/1955 [==============================] - 30s 15ms/step - loss: 0.8140\n",
            "Epoch 29/70\n",
            "1955/1955 [==============================] - ETA: 0s - loss: 0.7809\n",
            "Epoch 00029: loss improved from 0.81397 to 0.78092, saving model to next_words.h5\n",
            "1955/1955 [==============================] - 30s 15ms/step - loss: 0.7809\n",
            "Epoch 30/70\n",
            "1953/1955 [============================>.] - ETA: 0s - loss: 0.7469\n",
            "Epoch 00030: loss improved from 0.78092 to 0.74707, saving model to next_words.h5\n",
            "1955/1955 [==============================] - 30s 15ms/step - loss: 0.7471\n",
            "Epoch 31/70\n",
            "1953/1955 [============================>.] - ETA: 0s - loss: 0.7190\n",
            "Epoch 00031: loss improved from 0.74707 to 0.71915, saving model to next_words.h5\n",
            "1955/1955 [==============================] - 30s 15ms/step - loss: 0.7192\n",
            "Epoch 32/70\n",
            "1952/1955 [============================>.] - ETA: 0s - loss: 0.6988\n",
            "Epoch 00032: loss improved from 0.71915 to 0.69869, saving model to next_words.h5\n",
            "1955/1955 [==============================] - 30s 15ms/step - loss: 0.6987\n",
            "Epoch 33/70\n",
            "1954/1955 [============================>.] - ETA: 0s - loss: 0.6754\n",
            "Epoch 00033: loss improved from 0.69869 to 0.67535, saving model to next_words.h5\n",
            "1955/1955 [==============================] - 30s 15ms/step - loss: 0.6753\n",
            "Epoch 34/70\n",
            "1954/1955 [============================>.] - ETA: 0s - loss: 0.6613\n",
            "Epoch 00034: loss improved from 0.67535 to 0.66122, saving model to next_words.h5\n",
            "1955/1955 [==============================] - 30s 15ms/step - loss: 0.6612\n",
            "Epoch 35/70\n",
            "1955/1955 [==============================] - ETA: 0s - loss: 0.6427\n",
            "Epoch 00035: loss improved from 0.66122 to 0.64273, saving model to next_words.h5\n",
            "1955/1955 [==============================] - 30s 15ms/step - loss: 0.6427\n",
            "Epoch 36/70\n",
            "1954/1955 [============================>.] - ETA: 0s - loss: 0.6302\n",
            "Epoch 00036: loss improved from 0.64273 to 0.63025, saving model to next_words.h5\n",
            "1955/1955 [==============================] - 30s 15ms/step - loss: 0.6303\n",
            "Epoch 37/70\n",
            "1952/1955 [============================>.] - ETA: 0s - loss: 0.6151\n",
            "Epoch 00037: loss improved from 0.63025 to 0.61518, saving model to next_words.h5\n",
            "1955/1955 [==============================] - 30s 15ms/step - loss: 0.6152\n",
            "Epoch 38/70\n",
            "1955/1955 [==============================] - ETA: 0s - loss: 0.6036\n",
            "Epoch 00038: loss improved from 0.61518 to 0.60355, saving model to next_words.h5\n",
            "1955/1955 [==============================] - 30s 15ms/step - loss: 0.6036\n",
            "Epoch 39/70\n",
            "1955/1955 [==============================] - ETA: 0s - loss: 0.5906\n",
            "Epoch 00039: loss improved from 0.60355 to 0.59062, saving model to next_words.h5\n",
            "1955/1955 [==============================] - 30s 15ms/step - loss: 0.5906\n",
            "Epoch 40/70\n",
            "1955/1955 [==============================] - ETA: 0s - loss: 0.5864\n",
            "Epoch 00040: loss improved from 0.59062 to 0.58641, saving model to next_words.h5\n",
            "1955/1955 [==============================] - 30s 15ms/step - loss: 0.5864\n",
            "Epoch 41/70\n",
            "1954/1955 [============================>.] - ETA: 0s - loss: 0.5723\n",
            "Epoch 00041: loss improved from 0.58641 to 0.57241, saving model to next_words.h5\n",
            "1955/1955 [==============================] - 30s 15ms/step - loss: 0.5724\n",
            "Epoch 42/70\n",
            "1952/1955 [============================>.] - ETA: 0s - loss: 0.5631\n",
            "Epoch 00042: loss improved from 0.57241 to 0.56297, saving model to next_words.h5\n",
            "1955/1955 [==============================] - 30s 15ms/step - loss: 0.5630\n",
            "Epoch 43/70\n",
            "1953/1955 [============================>.] - ETA: 0s - loss: 0.5538\n",
            "Epoch 00043: loss improved from 0.56297 to 0.55374, saving model to next_words.h5\n",
            "1955/1955 [==============================] - 30s 15ms/step - loss: 0.5537\n",
            "Epoch 44/70\n",
            "1954/1955 [============================>.] - ETA: 0s - loss: 0.5477\n",
            "Epoch 00044: loss improved from 0.55374 to 0.54773, saving model to next_words.h5\n",
            "1955/1955 [==============================] - 30s 15ms/step - loss: 0.5477\n",
            "Epoch 45/70\n",
            "1954/1955 [============================>.] - ETA: 0s - loss: 0.5397\n",
            "Epoch 00045: loss improved from 0.54773 to 0.53974, saving model to next_words.h5\n",
            "1955/1955 [==============================] - 30s 15ms/step - loss: 0.5397\n",
            "Epoch 46/70\n",
            "1955/1955 [==============================] - ETA: 0s - loss: 0.5328\n",
            "Epoch 00046: loss improved from 0.53974 to 0.53283, saving model to next_words.h5\n",
            "1955/1955 [==============================] - 30s 15ms/step - loss: 0.5328\n",
            "Epoch 47/70\n",
            "1955/1955 [==============================] - ETA: 0s - loss: 0.5268\n",
            "Epoch 00047: loss improved from 0.53283 to 0.52681, saving model to next_words.h5\n",
            "1955/1955 [==============================] - 30s 15ms/step - loss: 0.5268\n",
            "Epoch 48/70\n",
            "1953/1955 [============================>.] - ETA: 0s - loss: 0.5199\n",
            "Epoch 00048: loss improved from 0.52681 to 0.51989, saving model to next_words.h5\n",
            "1955/1955 [==============================] - 30s 15ms/step - loss: 0.5199\n",
            "Epoch 49/70\n",
            "1955/1955 [==============================] - ETA: 0s - loss: 0.5155\n",
            "Epoch 00049: loss improved from 0.51989 to 0.51549, saving model to next_words.h5\n",
            "1955/1955 [==============================] - 30s 15ms/step - loss: 0.5155\n",
            "Epoch 50/70\n",
            "1953/1955 [============================>.] - ETA: 0s - loss: 0.5110\n",
            "Epoch 00050: loss improved from 0.51549 to 0.51105, saving model to next_words.h5\n",
            "1955/1955 [==============================] - 30s 15ms/step - loss: 0.5110\n",
            "Epoch 51/70\n",
            "1952/1955 [============================>.] - ETA: 0s - loss: 0.5039\n",
            "Epoch 00051: loss improved from 0.51105 to 0.50394, saving model to next_words.h5\n",
            "1955/1955 [==============================] - 30s 15ms/step - loss: 0.5039\n",
            "Epoch 52/70\n",
            "1952/1955 [============================>.] - ETA: 0s - loss: 0.5003\n",
            "Epoch 00052: loss improved from 0.50394 to 0.50038, saving model to next_words.h5\n",
            "1955/1955 [==============================] - 30s 15ms/step - loss: 0.5004\n",
            "Epoch 53/70\n",
            "1952/1955 [============================>.] - ETA: 0s - loss: 0.4934\n",
            "Epoch 00053: loss improved from 0.50038 to 0.49334, saving model to next_words.h5\n",
            "1955/1955 [==============================] - 30s 15ms/step - loss: 0.4933\n",
            "Epoch 54/70\n",
            "1954/1955 [============================>.] - ETA: 0s - loss: 0.4895\n",
            "Epoch 00054: loss improved from 0.49334 to 0.48957, saving model to next_words.h5\n",
            "1955/1955 [==============================] - 30s 15ms/step - loss: 0.4896\n",
            "Epoch 55/70\n",
            "1955/1955 [==============================] - ETA: 0s - loss: 0.4885\n",
            "Epoch 00055: loss improved from 0.48957 to 0.48853, saving model to next_words.h5\n",
            "1955/1955 [==============================] - 30s 15ms/step - loss: 0.4885\n",
            "Epoch 56/70\n",
            "1953/1955 [============================>.] - ETA: 0s - loss: 0.4816\n",
            "Epoch 00056: loss improved from 0.48853 to 0.48168, saving model to next_words.h5\n",
            "1955/1955 [==============================] - 30s 15ms/step - loss: 0.4817\n",
            "Epoch 57/70\n",
            "1955/1955 [==============================] - ETA: 0s - loss: 0.4773\n",
            "Epoch 00057: loss improved from 0.48168 to 0.47728, saving model to next_words.h5\n",
            "1955/1955 [==============================] - 30s 15ms/step - loss: 0.4773\n",
            "Epoch 58/70\n",
            "1954/1955 [============================>.] - ETA: 0s - loss: 0.4757\n",
            "Epoch 00058: loss improved from 0.47728 to 0.47570, saving model to next_words.h5\n",
            "1955/1955 [==============================] - 30s 15ms/step - loss: 0.4757\n",
            "Epoch 59/70\n",
            "1952/1955 [============================>.] - ETA: 0s - loss: 0.4677\n",
            "Epoch 00059: loss improved from 0.47570 to 0.46761, saving model to next_words.h5\n",
            "1955/1955 [==============================] - 30s 15ms/step - loss: 0.4676\n",
            "Epoch 60/70\n",
            "1954/1955 [============================>.] - ETA: 0s - loss: 0.4673\n",
            "Epoch 00060: loss improved from 0.46761 to 0.46731, saving model to next_words.h5\n",
            "1955/1955 [==============================] - 30s 15ms/step - loss: 0.4673\n",
            "Epoch 61/70\n",
            "1954/1955 [============================>.] - ETA: 0s - loss: 0.4633\n",
            "Epoch 00061: loss improved from 0.46731 to 0.46334, saving model to next_words.h5\n",
            "1955/1955 [==============================] - 30s 15ms/step - loss: 0.4633\n",
            "Epoch 62/70\n",
            "1952/1955 [============================>.] - ETA: 0s - loss: 0.4598\n",
            "Epoch 00062: loss improved from 0.46334 to 0.45983, saving model to next_words.h5\n",
            "1955/1955 [==============================] - 30s 15ms/step - loss: 0.4598\n",
            "Epoch 63/70\n",
            "1955/1955 [==============================] - ETA: 0s - loss: 0.4583\n",
            "Epoch 00063: loss improved from 0.45983 to 0.45835, saving model to next_words.h5\n",
            "1955/1955 [==============================] - 30s 15ms/step - loss: 0.4583\n",
            "Epoch 64/70\n",
            "1952/1955 [============================>.] - ETA: 0s - loss: 0.4541\n",
            "Epoch 00064: loss improved from 0.45835 to 0.45424, saving model to next_words.h5\n",
            "1955/1955 [==============================] - 30s 15ms/step - loss: 0.4542\n",
            "Epoch 65/70\n",
            "1955/1955 [==============================] - ETA: 0s - loss: 0.4514\n",
            "Epoch 00065: loss improved from 0.45424 to 0.45140, saving model to next_words.h5\n",
            "1955/1955 [==============================] - 30s 15ms/step - loss: 0.4514\n",
            "Epoch 66/70\n",
            "1953/1955 [============================>.] - ETA: 0s - loss: 0.4482\n",
            "Epoch 00066: loss improved from 0.45140 to 0.44813, saving model to next_words.h5\n",
            "1955/1955 [==============================] - 30s 15ms/step - loss: 0.4481\n",
            "Epoch 67/70\n",
            "1953/1955 [============================>.] - ETA: 0s - loss: 0.4477\n",
            "Epoch 00067: loss improved from 0.44813 to 0.44772, saving model to next_words.h5\n",
            "1955/1955 [==============================] - 30s 15ms/step - loss: 0.4477\n",
            "Epoch 68/70\n",
            "1954/1955 [============================>.] - ETA: 0s - loss: 0.4428\n",
            "Epoch 00068: loss improved from 0.44772 to 0.44281, saving model to next_words.h5\n",
            "1955/1955 [==============================] - 30s 15ms/step - loss: 0.4428\n",
            "Epoch 69/70\n",
            "1953/1955 [============================>.] - ETA: 0s - loss: 0.4410\n",
            "Epoch 00069: loss improved from 0.44281 to 0.44100, saving model to next_words.h5\n",
            "1955/1955 [==============================] - 30s 15ms/step - loss: 0.4410\n",
            "Epoch 70/70\n",
            "1955/1955 [==============================] - ETA: 0s - loss: 0.4396\n",
            "Epoch 00070: loss improved from 0.44100 to 0.43961, saving model to next_words.h5\n",
            "1955/1955 [==============================] - 30s 15ms/step - loss: 0.4396\n"
          ]
        },
        {
          "data": {
            "text/plain": [
              "<keras.callbacks.History at 0x7faca6425590>"
            ]
          },
          "execution_count": 20,
          "metadata": {},
          "output_type": "execute_result"
        }
      ],
      "source": [
        "from tensorflow.keras.callbacks import ModelCheckpoint\n",
        "\n",
        "checkpoint = ModelCheckpoint(\"next_words.h5\", monitor='loss', verbose=1, save_best_only=True)\n",
        "model.compile(loss=\"categorical_crossentropy\", optimizer=Adam(learning_rate=0.001))\n",
        "model.fit(X, y, epochs=70, batch_size=64, callbacks=[checkpoint])"
      ]
    },
    {
      "cell_type": "markdown",
      "metadata": {
        "id": "Umgxow0deGBZ"
      },
      "source": [
        "**Prediction**"
      ]
    },
    {
      "cell_type": "code",
      "execution_count": 21,
      "metadata": {
        "id": "2kxnik2cdKGn"
      },
      "outputs": [],
      "source": [
        "from tensorflow.keras.models import load_model\n",
        "import numpy as np\n",
        "import pickle\n",
        "\n",
        "# Load the model and tokenizer\n",
        "model = load_model('next_words.h5')\n",
        "tokenizer = pickle.load(open('token.pkl', 'rb'))\n",
        "\n",
        "def Predict_Next_Words(model, tokenizer, text):\n",
        "\n",
        "  sequence = tokenizer.texts_to_sequences([text])\n",
        "  sequence = np.array(sequence)\n",
        "  preds = np.argmax(model.predict(sequence))\n",
        "  predicted_word = \"\"\n",
        "  \n",
        "  for key, value in tokenizer.word_index.items():\n",
        "      if value == preds:\n",
        "          predicted_word = key\n",
        "          break\n",
        "  \n",
        "  print(predicted_word)\n",
        "  return predicted_word"
      ]
    },
    {
      "cell_type": "code",
      "execution_count": 22,
      "metadata": {
        "colab": {
          "base_uri": "https://localhost:8080/"
        },
        "id": "7OL0bx0KentB",
        "outputId": "7ccaf825-e376-45d7-9c4c-10ceb22edacd"
      },
      "outputs": [
        {
          "name": "stdout",
          "output_type": "stream",
          "text": [
            "Enter your line: If you are not\n",
            "['you', 'are', 'not']\n",
            "entitled\n",
            "Enter your line: fixed in the\n",
            "['fixed', 'in', 'the']\n",
            "minds\n",
            "Enter your line: Monday in a\n",
            "['Monday', 'in', 'a']\n",
            "chaise\n",
            "Enter your line: take possession before\n",
            "['take', 'possession', 'before']\n",
            "michaelmas\n",
            "Enter your line: What is his\n",
            "['What', 'is', 'his']\n",
            "name\n",
            "Enter your line: 0\n",
            "Execution completed.....\n"
          ]
        }
      ],
      "source": [
        "while(True):\n",
        "  text = input(\"Enter your line: \")\n",
        "  \n",
        "  if text == \"0\":\n",
        "      print(\"Execution completed.....\")\n",
        "      break\n",
        "  \n",
        "  else:\n",
        "      try:\n",
        "          text = text.split(\" \")\n",
        "          text = text[-3:]\n",
        "          print(text)\n",
        "        \n",
        "          Predict_Next_Words(model, tokenizer, text)\n",
        "          \n",
        "      except Exception as e:\n",
        "        print(\"Error occurred: \",e)\n",
        "        continue"
      ]
    },
    {
      "cell_type": "code",
      "execution_count": null,
      "metadata": {
        "id": "XDkM1rvPlo0x"
      },
      "outputs": [],
      "source": []
    }
  ],
  "metadata": {
    "accelerator": "GPU",
    "colab": {
      "collapsed_sections": [],
      "name": "next word prediction.ipynb",
      "provenance": []
    },
    "kernelspec": {
      "display_name": "Python 3",
      "name": "python3"
    },
    "language_info": {
      "name": "python"
    }
  },
  "nbformat": 4,
  "nbformat_minor": 0
}
